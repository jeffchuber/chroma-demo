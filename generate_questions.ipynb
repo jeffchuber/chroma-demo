{
 "cells": [
  {
   "cell_type": "code",
   "execution_count": null,
   "metadata": {},
   "outputs": [],
   "source": [
    "# sys\n",
    "import pickle\n",
    "\n",
    "# chroma\n",
    "import chromadb\n",
    "from chromadb.config import Settings\n",
    "from chromadb.utils import embedding_functions\n",
    "\n",
    "# other\n",
    "import openai\n",
    "openai.api_key = \"asdf\"\n",
    "DIR = \"./OpenAIEmbeddings\""
   ]
  },
  {
   "cell_type": "code",
   "execution_count": 18,
   "metadata": {},
   "outputs": [
    {
     "name": "stderr",
     "output_type": "stream",
     "text": [
      "No embedding_function provided, using default embedding function: DefaultEmbeddingFunction https://huggingface.co/sentence-transformers/all-MiniLM-L6-v2\n"
     ]
    },
    {
     "name": "stdout",
     "output_type": "stream",
     "text": [
      "42\n"
     ]
    }
   ],
   "source": [
    "# Load data \n",
    "client = chromadb.Client(Settings(\n",
    "    chroma_db_impl=\"duckdb+parquet\",\n",
    "    persist_directory='SentenceTransformers' \n",
    "))\n",
    "\n",
    "openai_ef = embedding_functions.OpenAIEmbeddingFunction(\n",
    "                api_key=openai.api_key,\n",
    "                model_name=\"text-embedding-ada-002\"\n",
    "            )\n",
    "collection = client.get_or_create_collection(name=\"sotu\")\n",
    "\n",
    "print(collection.count())\n"
   ]
  },
  {
   "cell_type": "code",
   "execution_count": 19,
   "metadata": {},
   "outputs": [],
   "source": [
    "all_data = collection.get(limit=50)\n",
    "\n",
    "questions = []\n",
    "for doc, id in zip(all_data['documents'], all_data['ids']):\n",
    "    resp = openai.Completion.create(\n",
    "        model=\"text-davinci-003\",\n",
    "        prompt=f\"Write a question that someone would ask about the following text: {doc}\",\n",
    "        temperature=0.5\n",
    "    )\n",
    "\n",
    "    questions.append((id, resp['choices'][0]['text']))\n"
   ]
  },
  {
   "cell_type": "code",
   "execution_count": 20,
   "metadata": {},
   "outputs": [
    {
     "name": "stdout",
     "output_type": "stream",
     "text": [
      "[('ca82ba21-2eca-4b08-b2a8-07655767c11b', \"\\n\\nWhat did Russia's Vladimir Putin do that was met with a wall of\"), ('728c4d9e-f377-4fad-85f2-6f07af9a3da0', '\\n\\nWhat challenges are we facing as a nation that we must overcome?'), ('f23a76c5-408d-4bdb-96a1-9fb4e4583a04', ' \\n\\nWhat efforts did the United States take to unify the European allies'), ('c173b37a-925b-4f0a-9092-f2d918bb8dc5', ' \\n\\nWhat types of technology is the U.S. cutting off from'), ('f68b50ac-a6ce-4e0f-8aad-97cde9bc9937', '\\n\\nWhat type of assistance is the U.S. providing to Ukraine?'), ('b39ac068-e813-4745-8dc8-984b803591fc', '\\n\\nWhat costs have been incurred by the United States and its Allies due to'), ('c7e9d3cd-0fb1-4b86-9602-457ba60aeab2', '\\n\\nWhat other countries have agreed to release oil from their reserves to help reduce'), ('761109c6-b725-4797-afce-1868082ee35f', '\\n\\nWhat has been the response of the free world to the Russian aggression in'), ('ccd56c7f-e0eb-4c1c-9034-99d12c67bcf3', '\\n\\nWhat impact has the American Rescue Plan had on families struggling to keep up'), ('df52252e-d893-4d28-baff-45dae28a2c45', '\\n\\nWhat evidence is there that the American Rescue Plan created jobs and helped working'), ('99092a26-d296-490c-8367-bc89175f96e8', ' \\n\\nWhat is the main goal of the Bipartisan Infrastructure Law?'), ('d4c1c76f-03b6-4d91-9cc2-d32049404751', '\\n\\nWhat qualifications does the former top litigator have that have earned them the'), ('85996a13-56a6-4549-b2c5-2583630a470d', ' \\n\\nWhat is the Bipartisan Innovation Act and how will it help'), ('71c2bf8b-cd55-4562-b4ee-4fc020f5b589', '\\n\\nWhat type of jobs will Intel create with their investment?'), ('e5917631-9268-44b0-ba21-3d3330ea2488', '\\n\\nWhat is the total number of jobs that Ford and GM are creating in'), ('d765dc78-18b6-4f52-974e-08171216d905', \" \\n\\nWhat is Senator Brown's top priority in terms of fighting inflation?\"), ('efddedc4-4916-49b2-9d33-51fe7ce331a8', ' His family has to pay $1,000 a month for insulin. That'), ('59d0aa48-b8bd-47b4-90e8-3bcdbb05c577', '\\n\\nWhat is the maximum price that families like Joshua and his Dad are charged'), ('29b27473-d9be-4a90-8374-70873e026df5', '\\n\\nWhat investments and tax credits are available to help weatherize homes and businesses'), ('a4325f9f-d833-4fc9-a272-bf69e5880552', '\\n\\nWhat is the proposed 15% minimum tax rate for corporations?'), ('bfd1cfa9-549d-4a41-9255-4792ab48318a', '\\n\\nWhat is the plan proposed by the speaker to lower costs for families?'), ('fc898b75-794a-40ff-bd2a-1565855ab0aa', '\\n\\nWhat measures is the Justice Department taking to ensure that the criminals who stole'), ('135f8a4d-0d57-41ac-86fe-5d68c612cab7', '\\n\\nWhat measures will be taken to ensure nursing home quality and reduce costs?'), ('d042b181-f1c1-4468-a3b1-21c9cbe38068', '\\n\\nWhat is the PRO Act and why is it important?'), ('723efffc-4d4b-41a4-aa41-217d059b24d5', '\\n\\nWhat age range is the vaccine authorized for?'), ('14c4dd0b-983a-4e0a-bb33-08f39420651c', '\\n\\nWhat is the \"Test to Treat\" initiative?'), ('598165e0-beda-4af2-9818-034889c4326e', '\\n\\nWhat steps are being taken to ensure that new variants of the virus will'), ('92b314d7-071e-4455-b1d8-15469bf2d231', ' \\n\\nWhat type of financial support is the President requesting from Congress to continue'), ('062a3075-d3c2-4fdc-957d-2401b016fcec', '\\n\\nWhat strategies can be used to restore trust and safety in communities?'), ('6a0f74e6-ce80-447d-af4a-95fcaa3d8ba5', '\\n\\nWhat strategies has the Justice Department implemented to ensure police accountability?'), ('b570e21b-f152-4fb4-ab52-b931b4a12e7e', '\\n\\nWhat measures are being proposed to reduce gun violence?'), ('964e4031-e5a2-4417-a7bf-0ff973ef1c40', '\\n\\nWhat qualifications does Judge Ketanji Brown Jackson have that make her a'), ('13798237-a3f1-489a-b6af-524af75d8abd', '\\n\\nWhat are the plans for the electric vehicle charging stations?'), ('d6061fb4-1068-4ee3-a4fc-eaa4921480a4', \"\\n\\nWhat is the U.S. Chamber of Commerce's stance on immigration\"), ('764e74fd-c3ec-4b7a-a3ab-c18501aaeb09', '\\n\\nWhat is the Equality Act and how would it help LGBTQ+ Americans?'), ('8761731f-e01a-4495-afd4-8a8db145b1a9', '\\n\\nWhat initiatives are being put in place to address bullying, violence, trauma'), ('12ba5806-e65f-4319-b4e7-86bcc34ca05b', ' \\n\\nWhat measures is the administration taking to ensure that veterans receive the mental'), ('c60a1392-1ec8-4571-9082-077d1833f140', ' \\n\\nWhat evidence is there that the burn pits could be linked to Major'), ('3e19fd92-0a01-45eb-9a8c-e7c3bd645ac3', '\\n\\nWhat are the nine respiratory cancers that the VA is expanding eligibility for?'), ('bf463747-adc0-4c53-8859-53088e918285', '\\n\\nWhat is the goal of the Cancer Moonshot led by the speaker?'), ('42b6b7bf-d416-40ed-b803-96a593b5c232', '\\n\\nWhat is the purpose of the text?'), ('b138b5d3-a382-4ba0-8ce3-cf2af588279a', '\\n\\nWhat inspired the citizens of Ukraine to block tanks with their bodies?')]\n"
     ]
    }
   ],
   "source": [
    "# pickle save the questions\n",
    "with open('questions_st.pickle', 'wb') as handle:\n",
    "    pickle.dump(questions, handle, protocol=pickle.HIGHEST_PROTOCOL)\n",
    "\n",
    "print(questions)\n"
   ]
  }
 ],
 "metadata": {
  "kernelspec": {
   "display_name": "Python 3",
   "language": "python",
   "name": "python3"
  },
  "language_info": {
   "codemirror_mode": {
    "name": "ipython",
    "version": 3
   },
   "file_extension": ".py",
   "mimetype": "text/x-python",
   "name": "python",
   "nbconvert_exporter": "python",
   "pygments_lexer": "ipython3",
   "version": "3.10.10"
  },
  "orig_nbformat": 4
 },
 "nbformat": 4,
 "nbformat_minor": 2
}
